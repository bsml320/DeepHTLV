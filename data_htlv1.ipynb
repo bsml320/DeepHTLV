{
 "cells": [
  {
   "cell_type": "code",
   "execution_count": null,
   "metadata": {},
   "outputs": [],
   "source": [
    "import numpy as np\n",
    "import os\n",
    "#from util import seq_matrix"
   ]
  },
  {
   "cell_type": "code",
   "execution_count": null,
   "metadata": {},
   "outputs": [],
   "source": [
    "def seq_matrix(seq_list, dim):\n",
    "\ttensor = np.zeros((len(seq_list),dim,4))\n",
    "\ty = []\n",
    "\tfor i in range(len(seq_list)):\n",
    "\t\tseq = seq_list[i]\n",
    "\t\tj = 0\n",
    "\t\tfor s in seq:\n",
    "\t\t\tif s == 'A' or s == 'a':\n",
    "\t\t\t\ttensor[i][j] = [1,0,0,0]\n",
    "\t\t\tif s == 'T' or s == 't':\n",
    "\t\t\t\ttensor[i][j] = [0,1,0,0]\n",
    "\t\t\tif s == 'C' or s == 'c':\n",
    "\t\t\t\ttensor[i][j] = [0,0,1,0]\n",
    "\t\t\tif s == 'G' or s == 'g':\n",
    "\t\t\t\ttensor[i][j] = [0,0,0,1]\n",
    "\t\t\tif s == 'N':\n",
    "\t\t\t\ttensor[i][j] = [0,0,0,0]\n",
    "\t\t\tj += 1\n",
    "\t\n",
    "\treturn tensor"
   ]
  },
  {
   "cell_type": "code",
   "execution_count": null,
   "metadata": {},
   "outputs": [],
   "source": [
    "def fasta_to_matrix():\n",
    "\tseq_name = ['data/currently_used_files/final_fasta/VIS_pos_final_liftover_c9' , 'data/currently_used_files/final_fasta/VIS_neg_final_liftover_sampled_c9']\n",
    "\t\n",
    "\tprint(seq_name)\n",
    "\tdim = 1000\n",
    "\tprint('seq')\n",
    "\t### Seq ###\n",
    "\n",
    "\tfor name in seq_name:\n",
    "\t\tif 'pos' in name:\n",
    "\t\t\tprint(name)\n",
    "\t\t\ty = []\n",
    "\t\t\tseq = []\n",
    "\t\t\tpositive_seq_file = open(name +'.fasta')\n",
    "\t\t\tlines = positive_seq_file.readlines()\n",
    "\t\t\tpositive_seq_file.close()\n",
    "\t\t\tfor line in lines:\n",
    "\t\t\t\tline = line.strip()\n",
    "\t\t\t\tif line[0] == '>':\n",
    "\t\t\t\t\ty.append(1)\n",
    "\t\t\t\telse:\n",
    "\t\t\t\t\tseq.append(line)\n",
    "\n",
    "\t\t\tX1 = seq_matrix(seq,dim)\n",
    "\t\t\tprint('pos_ending!')\n",
    "\t\t\tnp.save(name.split('.')[0], X1)\n",
    "\n",
    "\t\tif 'neg' in name:\n",
    "\t\t\tprint(name)\n",
    "\t\t\ty = []\n",
    "\t\t\tseq = []\n",
    "\t\t\tnegative_seq_file = open(name +'.fasta')\n",
    "\t\t\tlines = negative_seq_file.readlines()\n",
    "\t\t\tnegative_seq_file.close()\n",
    "\t\t\tfor line in lines:\n",
    "\t\t\t\tline = line.strip()\n",
    "\t\t\t\tif line[0] == '>':\n",
    "\t\t\t\t\ty.append(0)\n",
    "\t\t\t\telse:\n",
    "\t\t\t\t\tseq.append(line)\n",
    "\n",
    "\t\t\tX0 = seq_matrix(seq,dim)\n",
    "\t\t\tprint('neg_ending!')\n",
    "\t\t\tnp.save(name.split('.')[0], X0)\n",
    "\n",
    "\tX = np.concatenate([X1,X0])\n",
    "\ty = np.concatenate([np.ones(len(X1)), np.zeros(len(X0))])\n",
    "\n",
    "\tnp.save('data/x_VISDB_fulldata.npy', X)\n",
    "\tnp.save('data/y_VISDB_fulldata.npy', y)"
   ]
  },
  {
   "cell_type": "code",
   "execution_count": null,
   "metadata": {
    "scrolled": true
   },
   "outputs": [],
   "source": [
    "%%time\n",
    "if __name__ == '__main__':\n",
    "\tfasta_to_matrix()"
   ]
  },
  {
   "cell_type": "code",
   "execution_count": null,
   "metadata": {},
   "outputs": [],
   "source": []
  }
 ],
 "metadata": {
  "interpreter": {
   "hash": "ae945ea5492da99bc4380f27a44c59a35af41e0a60b9807bb34b3bcd1aba8e92"
  },
  "kernelspec": {
   "display_name": "Python 3.8.11 64-bit ('deephtlv': conda)",
   "name": "python3"
  },
  "language_info": {
   "codemirror_mode": {
    "name": "ipython",
    "version": 3
   },
   "file_extension": ".py",
   "mimetype": "text/x-python",
   "name": "python",
   "nbconvert_exporter": "python",
   "pygments_lexer": "ipython3",
   "version": "3.8.11"
  }
 },
 "nbformat": 4,
 "nbformat_minor": 1
}
